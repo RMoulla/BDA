{
  "nbformat": 4,
  "nbformat_minor": 0,
  "metadata": {
    "colab": {
      "provenance": [],
      "authorship_tag": "ABX9TyM30mZo85T6EZbH5uX90uUT",
      "include_colab_link": true
    },
    "kernelspec": {
      "name": "python3",
      "display_name": "Python 3"
    },
    "language_info": {
      "name": "python"
    }
  },
  "cells": [
    {
      "cell_type": "markdown",
      "metadata": {
        "id": "view-in-github",
        "colab_type": "text"
      },
      "source": [
        "<a href=\"https://colab.research.google.com/github/RMoulla/BDA/blob/main/Random_Forest_M%C3%A9t%C3%A9o.ipynb\" target=\"_parent\"><img src=\"https://colab.research.google.com/assets/colab-badge.svg\" alt=\"Open In Colab\"/></a>"
      ]
    },
    {
      "cell_type": "markdown",
      "source": [
        "# Travaux Pratiques : Random Forest sur des données météo"
      ],
      "metadata": {
        "id": "UtxDKke8kPo1"
      }
    },
    {
      "cell_type": "code",
      "source": [
        "import pandas as pd\n",
        "# Chargement des données"
      ],
      "metadata": {
        "id": "nZvHcu6kZb6e"
      },
      "execution_count": null,
      "outputs": []
    },
    {
      "cell_type": "code",
      "source": [
        "# Nettoyage des données : suppression des colonnes inutiles\n",
        "# 'Unnamed: 0', 'Minute', 'Hour', 'Day', 'Year'"
      ],
      "metadata": {
        "id": "946rM2ZzZfez"
      },
      "execution_count": null,
      "outputs": []
    },
    {
      "cell_type": "code",
      "source": [
        "# Préparation des caractéristiques et de la cible\n",
        "# Isoler les variables explicatives dans un dataframe nommé X et la variable cible dans y\n",
        "# Transformer la variable \"Month\" en variable catégorielle"
      ],
      "metadata": {
        "id": "xkQxmRkPZwwl"
      },
      "execution_count": null,
      "outputs": []
    },
    {
      "cell_type": "code",
      "source": [
        "from sklearn.model_selection import train_test_split\n",
        "# Partitionner les données en train et test"
      ],
      "metadata": {
        "id": "sr43eOd_ig4e"
      },
      "execution_count": null,
      "outputs": []
    },
    {
      "cell_type": "code",
      "source": [
        "from sklearn.ensemble import RandomForestClassifier\n",
        "# Entraîner un modèle de Random Forest"
      ],
      "metadata": {
        "id": "dtKte2vpjDOO"
      },
      "execution_count": null,
      "outputs": []
    },
    {
      "cell_type": "code",
      "source": [
        "from sklearn.metrics import accuracy_score\n",
        "# Mesurer l'accuracy du modèle sur le test"
      ],
      "metadata": {
        "id": "yKQLgEclj66w"
      },
      "execution_count": null,
      "outputs": []
    },
    {
      "cell_type": "code",
      "source": [
        "from sklearn.model_selection import GridSearchCV\n",
        "# Optimiser les hyperparamètres du modèles"
      ],
      "metadata": {
        "id": "puPcznPsjY2b"
      },
      "execution_count": null,
      "outputs": []
    }
  ]
}