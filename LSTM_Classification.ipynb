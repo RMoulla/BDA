{
  "nbformat": 4,
  "nbformat_minor": 0,
  "metadata": {
    "colab": {
      "provenance": [],
      "gpuType": "T4",
      "authorship_tag": "ABX9TyOPjR+J1cKZVvC8EGKzDwFx",
      "include_colab_link": true
    },
    "kernelspec": {
      "name": "python3",
      "display_name": "Python 3"
    },
    "language_info": {
      "name": "python"
    },
    "accelerator": "GPU"
  },
  "cells": [
    {
      "cell_type": "markdown",
      "metadata": {
        "id": "view-in-github",
        "colab_type": "text"
      },
      "source": [
        "<a href=\"https://colab.research.google.com/github/RMoulla/BDA/blob/main/LSTM_Classification.ipynb\" target=\"_parent\"><img src=\"https://colab.research.google.com/assets/colab-badge.svg\" alt=\"Open In Colab\"/></a>"
      ]
    },
    {
      "cell_type": "code",
      "source": [
        "!pip install portalocker>=2.0.0"
      ],
      "metadata": {
        "id": "sFANCW1PeCOS"
      },
      "execution_count": 1,
      "outputs": []
    },
    {
      "cell_type": "code",
      "execution_count": 2,
      "metadata": {
        "id": "Zd7ZFYOYdZVo",
        "colab": {
          "base_uri": "https://localhost:8080/"
        },
        "outputId": "dc1a10cb-c0d9-4bef-9d60-3804e9d67bc2"
      },
      "outputs": [
        {
          "output_type": "stream",
          "name": "stdout",
          "text": [
            "Epoch 1, Train Loss: 0.5700466606092484, Test Loss: 0.04135168101148386, Test Accuracy: 0.8943421052631579\n",
            "Epoch 2, Train Loss: 0.22892442001255695, Test Loss: 0.03543870934104473, Test Accuracy: 0.9105263157894737\n",
            "Epoch 3, Train Loss: 0.1592835064956511, Test Loss: 0.035903294688530304, Test Accuracy: 0.9106578947368421\n",
            "Epoch 4, Train Loss: 0.10874265675997885, Test Loss: 0.0384247496216803, Test Accuracy: 0.9126315789473685\n",
            "Epoch 5, Train Loss: 0.07348871503821089, Test Loss: 0.042569012240595554, Test Accuracy: 0.915\n"
          ]
        }
      ],
      "source": [
        "import torch\n",
        "from torchtext.datasets import AG_NEWS\n",
        "from torch.utils.data import DataLoader\n",
        "from torchtext.data.utils import get_tokenizer\n",
        "from torchtext.vocab import build_vocab_from_iterator\n",
        "from torch import nn\n",
        "import torch.optim as optim\n",
        "\n",
        "# Détection du GPU\n",
        "device = torch.device(\"cuda\" if torch.cuda.is_available() else \"cpu\")\n",
        "\n",
        "# Charger le dataset AG News\n",
        "train_iter, test_iter = AG_NEWS()\n",
        "\n",
        "# Tokenisation et construction du vocabulaire\n",
        "tokenizer = get_tokenizer('basic_english')\n",
        "def yield_tokens(data_iter):\n",
        "    for _, text in data_iter:\n",
        "        yield tokenizer(text)\n",
        "\n",
        "vocab = build_vocab_from_iterator(yield_tokens(train_iter), specials=[\"<unk>\"])\n",
        "vocab.set_default_index(vocab[\"<unk>\"])\n",
        "\n",
        "# Création du modèle LSTM\n",
        "class LSTMClassifier(nn.Module):\n",
        "    def __init__(self, vocab_size, embed_dim, hidden_dim, num_classes):\n",
        "        super(LSTMClassifier, self).__init__()\n",
        "        self.embedding = nn.Embedding(vocab_size, embed_dim)\n",
        "        self.lstm = nn.LSTM(embed_dim, hidden_dim, batch_first=True)\n",
        "        self.fc = nn.Linear(hidden_dim, num_classes)\n",
        "\n",
        "    def forward(self, text):\n",
        "        embedded = self.embedding(text)\n",
        "        lstm_out, _ = self.lstm(embedded)\n",
        "        final_out = lstm_out[:, -1, :]\n",
        "        return self.fc(final_out)\n",
        "\n",
        "# Paramètres du modèle\n",
        "vocab_size = len(vocab)\n",
        "embed_dim = 64\n",
        "hidden_dim = 128\n",
        "num_classes = 4  # Monde, Sports, Business, Science/Technologie\n",
        "\n",
        "model = LSTMClassifier(vocab_size, embed_dim, hidden_dim, num_classes).to(device)\n",
        "\n",
        "# Fonction de perte et optimiseur\n",
        "criterion = nn.CrossEntropyLoss()\n",
        "optimizer = optim.Adam(model.parameters(), lr=0.001)\n",
        "\n",
        "# Préparation des données pour l'entraînement\n",
        "def collate_batch(batch):\n",
        "    label_list, text_list = [], []\n",
        "    for (_label, _text) in batch:\n",
        "         label_list.append(_label - 1)\n",
        "         processed_text = torch.tensor(vocab(tokenizer(_text)), dtype=torch.int64)\n",
        "         text_list.append(processed_text)\n",
        "    return torch.tensor(label_list, dtype=torch.int64).to(device), nn.utils.rnn.pad_sequence(text_list, batch_first=True).to(device)\n",
        "\n",
        "train_loader = DataLoader(train_iter, batch_size=8, shuffle=False, collate_fn=collate_batch)\n",
        "test_loader = DataLoader(test_iter, batch_size=8, shuffle=False, collate_fn=collate_batch)\n",
        "\n",
        "\n",
        "\n",
        "def train_model(model, train_loader, test_loader, criterion, optimizer, num_epochs, device):\n",
        "    for epoch in range(num_epochs):\n",
        "        model.train()\n",
        "        total_loss = 0\n",
        "        num_batches = 0\n",
        "        for labels, text in train_loader:\n",
        "            num_batches += 1\n",
        "            labels, text = labels.to(device), text.to(device)\n",
        "            optimizer.zero_grad()\n",
        "            output = model(text)\n",
        "            loss = criterion(output, labels)\n",
        "            loss.backward()\n",
        "            optimizer.step()\n",
        "            total_loss += loss.item()\n",
        "\n",
        "        train_loss = total_loss / num_batches\n",
        "        test_loss, test_accuracy = evaluate_model(model, test_loader, criterion, device)\n",
        "        print(f'Epoch {epoch+1}, Train Loss: {train_loss}, Test Loss: {test_loss}, Test Accuracy: {test_accuracy}')\n",
        "\n",
        "def evaluate_model(model, test_loader, criterion, device):\n",
        "    model.eval()\n",
        "    total_loss = 0\n",
        "    correct_preds = 0\n",
        "    total_samples = 0\n",
        "    with torch.no_grad():\n",
        "        for labels, text in test_loader:\n",
        "            labels, text = labels.to(device), text.to(device)\n",
        "            output = model(text)\n",
        "            total_loss += criterion(output, labels).item()\n",
        "            predictions = output.argmax(1)\n",
        "            correct_preds += (predictions == labels).sum().item()\n",
        "            total_samples += labels.size(0)\n",
        "    return total_loss / total_samples, correct_preds / total_samples\n",
        "\n",
        "# Entraînement et évaluation du modèle\n",
        "num_epochs = 5\n",
        "train_model(model, train_loader, test_loader, criterion, optimizer, num_epochs, device)\n"
      ]
    }
  ]
}